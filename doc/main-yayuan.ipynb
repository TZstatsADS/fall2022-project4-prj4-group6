{
 "cells": [
  {
   "cell_type": "markdown",
   "metadata": {},
   "source": [
    "# Project 4 Machine Learning Fairness Algorithms Evaluation\n",
    "\n",
    "Group 6: \n",
    "* Huang, Xilin (xh2508@columbia.edu)\n",
    "* Nguyen, Kieu-Giang (kn2521@columbia.edu) \n",
    "* Spade, Gabriel (gms2221@columbia.edu) \n",
    "* Wang, Yayuan (yw3548@columbia.edu)\n",
    "* Xu, Jiapeng (jx2427@columbia.edu)\n"
   ]
  },
  {
   "cell_type": "markdown",
   "metadata": {},
   "source": [
    "## 1. Introduction"
   ]
  },
  {
   "cell_type": "markdown",
   "metadata": {},
   "source": [
    "​​In this project, we are comparing two methodologies introduced by [A2-Maximizing accuracy under fairness constraints (C-SVM and C-LR)](https://arxiv.org/abs/1507.05259) and [A7-Information Theoretic Measures for Fairness-aware Feature selection (FFS)](https://arxiv.org/abs/2106.00772) to obtain a better understanding of the trade-off between accuracy and fairness. The criterion we use to quantify fairness is calibration, meaning that the prediction accuracy of the protected group ought to be equal to the accuracy of the unprotected group. \n",
    "\n",
    "We examine all the algorithms on [COMPAS Dataset](https://www.propublica.org/datastore/dataset/compas-recidivism-risk-score-data-and-analysis) to evaluate their performance. COMPAS dataset contains criminal history and demographic information. In this case, the race of each individual is our protected/sensitive attribute (African-American=0, Caucasian = 1). The binary target label (y) we are interested in is whether the individual was arrested for a crime within 2 years of release. \n",
    "\n",
    "\n",
    "In summary, according to the *A7-Information Theoretic Measures for Fairness-aware Feature Selection*, we select and encode our variables as follows: \n",
    "\n",
    "- Binary class label (y): <code>two_year_recid</code>, indicating whether the individual was arrested for a crime within 2 years of release\n",
    "- Binary sensitive attribute: <code>race</code>, African-American=0, Caucasian = 1\n",
    "- Other features: \n",
    "    *  <code>sex</code>: female = 0, male = 1\n",
    "    *  <code>age</code>: less than 25 = 0, age 25~45 = 1, age older than 45 = 2\n",
    "    *  <code>c_charge_degree</code>: misdemeanor = 0, felony = 1\n",
    "    *  <code>priors_count</code>: none = 0, 1~3 times = 1, more than 3 = 2\n",
    "    *  <code>length_of_stay</code>: normalized time elapsed from in jail until out of jail\n"
   ]
  },
  {
   "cell_type": "markdown",
   "metadata": {},
   "source": [
    "## 2. Preparation\n",
    "### 2.1 Data Cleansing and Processing"
   ]
  },
  {
   "cell_type": "code",
   "execution_count": 1,
   "metadata": {},
   "outputs": [],
   "source": [
    "import numpy as np\n",
    "import pandas as pd\n",
    "from datetime import datetime, timedelta"
   ]
  },
  {
   "cell_type": "code",
   "execution_count": 2,
   "metadata": {},
   "outputs": [],
   "source": [
    "df_raw = pd.read_csv('../data/compas-scores-two-years.csv')    # load the data"
   ]
  },
  {
   "cell_type": "code",
   "execution_count": 3,
   "metadata": {},
   "outputs": [
    {
     "data": {
      "text/html": [
       "<div>\n",
       "<style scoped>\n",
       "    .dataframe tbody tr th:only-of-type {\n",
       "        vertical-align: middle;\n",
       "    }\n",
       "\n",
       "    .dataframe tbody tr th {\n",
       "        vertical-align: top;\n",
       "    }\n",
       "\n",
       "    .dataframe thead th {\n",
       "        text-align: right;\n",
       "    }\n",
       "</style>\n",
       "<table border=\"1\" class=\"dataframe\">\n",
       "  <thead>\n",
       "    <tr style=\"text-align: right;\">\n",
       "      <th></th>\n",
       "      <th>two_year_recid</th>\n",
       "      <th>race</th>\n",
       "      <th>sex</th>\n",
       "      <th>age</th>\n",
       "      <th>c_charge_degree</th>\n",
       "      <th>priors_count</th>\n",
       "      <th>length_of_stay</th>\n",
       "    </tr>\n",
       "  </thead>\n",
       "  <tbody>\n",
       "    <tr>\n",
       "      <th>1</th>\n",
       "      <td>1</td>\n",
       "      <td>African-American</td>\n",
       "      <td>Male</td>\n",
       "      <td>34</td>\n",
       "      <td>F</td>\n",
       "      <td>0</td>\n",
       "      <td>10.041667</td>\n",
       "    </tr>\n",
       "    <tr>\n",
       "      <th>2</th>\n",
       "      <td>1</td>\n",
       "      <td>African-American</td>\n",
       "      <td>Male</td>\n",
       "      <td>24</td>\n",
       "      <td>F</td>\n",
       "      <td>4</td>\n",
       "      <td>1.083333</td>\n",
       "    </tr>\n",
       "    <tr>\n",
       "      <th>6</th>\n",
       "      <td>1</td>\n",
       "      <td>Caucasian</td>\n",
       "      <td>Male</td>\n",
       "      <td>41</td>\n",
       "      <td>F</td>\n",
       "      <td>14</td>\n",
       "      <td>6.291667</td>\n",
       "    </tr>\n",
       "    <tr>\n",
       "      <th>8</th>\n",
       "      <td>0</td>\n",
       "      <td>Caucasian</td>\n",
       "      <td>Female</td>\n",
       "      <td>39</td>\n",
       "      <td>M</td>\n",
       "      <td>0</td>\n",
       "      <td>2.916667</td>\n",
       "    </tr>\n",
       "    <tr>\n",
       "      <th>9</th>\n",
       "      <td>1</td>\n",
       "      <td>Caucasian</td>\n",
       "      <td>Male</td>\n",
       "      <td>21</td>\n",
       "      <td>F</td>\n",
       "      <td>1</td>\n",
       "      <td>0.958333</td>\n",
       "    </tr>\n",
       "  </tbody>\n",
       "</table>\n",
       "</div>"
      ],
      "text/plain": [
       "   two_year_recid              race     sex  age c_charge_degree  \\\n",
       "1               1  African-American    Male   34               F   \n",
       "2               1  African-American    Male   24               F   \n",
       "6               1         Caucasian    Male   41               F   \n",
       "8               0         Caucasian  Female   39               M   \n",
       "9               1         Caucasian    Male   21               F   \n",
       "\n",
       "   priors_count  length_of_stay  \n",
       "1             0       10.041667  \n",
       "2             4        1.083333  \n",
       "6            14        6.291667  \n",
       "8             0        2.916667  \n",
       "9             1        0.958333  "
      ]
     },
     "execution_count": 3,
     "metadata": {},
     "output_type": "execute_result"
    }
   ],
   "source": [
    "length_of_stay = pd.to_datetime(df_raw[\"c_jail_out\"]) - pd.to_datetime(df_raw[\"c_jail_in\"])    # calculate length of stay (days)\n",
    "df = df_raw\n",
    "df[\"length_of_stay\"] = length_of_stay.astype('timedelta64[h]')/24\n",
    "df = df[[\"two_year_recid\",\"race\",\"sex\",\"age\",\"c_charge_degree\",\"priors_count\",\"length_of_stay\"]]   # select features we are interested in\n",
    "df = df.dropna()         # drop NA\n",
    "df = df.loc[(df[\"length_of_stay\"] > 0) &                                         # length of stay should be positive\n",
    "       ((df[\"race\"]== \"African-American\") | (df[\"race\"]== \"Caucasian\"))]         # individuals who are African american or Caucasian\n",
    "df.head()"
   ]
  },
  {
   "cell_type": "code",
   "execution_count": 4,
   "metadata": {},
   "outputs": [
    {
     "data": {
      "text/html": [
       "<div>\n",
       "<style scoped>\n",
       "    .dataframe tbody tr th:only-of-type {\n",
       "        vertical-align: middle;\n",
       "    }\n",
       "\n",
       "    .dataframe tbody tr th {\n",
       "        vertical-align: top;\n",
       "    }\n",
       "\n",
       "    .dataframe thead th {\n",
       "        text-align: right;\n",
       "    }\n",
       "</style>\n",
       "<table border=\"1\" class=\"dataframe\">\n",
       "  <thead>\n",
       "    <tr style=\"text-align: right;\">\n",
       "      <th></th>\n",
       "      <th>two_year_recid</th>\n",
       "      <th>race</th>\n",
       "      <th>sex</th>\n",
       "      <th>age</th>\n",
       "      <th>c_charge_degree</th>\n",
       "      <th>priors_count</th>\n",
       "      <th>length_of_stay</th>\n",
       "    </tr>\n",
       "  </thead>\n",
       "  <tbody>\n",
       "    <tr>\n",
       "      <th>1</th>\n",
       "      <td>1</td>\n",
       "      <td>0</td>\n",
       "      <td>1</td>\n",
       "      <td>1</td>\n",
       "      <td>1</td>\n",
       "      <td>0</td>\n",
       "      <td>-0.187151</td>\n",
       "    </tr>\n",
       "    <tr>\n",
       "      <th>2</th>\n",
       "      <td>1</td>\n",
       "      <td>0</td>\n",
       "      <td>1</td>\n",
       "      <td>0</td>\n",
       "      <td>1</td>\n",
       "      <td>2</td>\n",
       "      <td>-0.356541</td>\n",
       "    </tr>\n",
       "    <tr>\n",
       "      <th>6</th>\n",
       "      <td>1</td>\n",
       "      <td>1</td>\n",
       "      <td>1</td>\n",
       "      <td>1</td>\n",
       "      <td>1</td>\n",
       "      <td>2</td>\n",
       "      <td>-0.258059</td>\n",
       "    </tr>\n",
       "    <tr>\n",
       "      <th>8</th>\n",
       "      <td>0</td>\n",
       "      <td>1</td>\n",
       "      <td>0</td>\n",
       "      <td>1</td>\n",
       "      <td>0</td>\n",
       "      <td>0</td>\n",
       "      <td>-0.321875</td>\n",
       "    </tr>\n",
       "    <tr>\n",
       "      <th>9</th>\n",
       "      <td>1</td>\n",
       "      <td>1</td>\n",
       "      <td>1</td>\n",
       "      <td>0</td>\n",
       "      <td>1</td>\n",
       "      <td>1</td>\n",
       "      <td>-0.358905</td>\n",
       "    </tr>\n",
       "  </tbody>\n",
       "</table>\n",
       "</div>"
      ],
      "text/plain": [
       "   two_year_recid  race  sex  age  c_charge_degree  priors_count  \\\n",
       "1               1     0    1    1                1             0   \n",
       "2               1     0    1    0                1             2   \n",
       "6               1     1    1    1                1             2   \n",
       "8               0     1    0    1                0             0   \n",
       "9               1     1    1    0                1             1   \n",
       "\n",
       "   length_of_stay  \n",
       "1       -0.187151  \n",
       "2       -0.356541  \n",
       "6       -0.258059  \n",
       "8       -0.321875  \n",
       "9       -0.358905  "
      ]
     },
     "execution_count": 4,
     "metadata": {},
     "output_type": "execute_result"
    }
   ],
   "source": [
    "# encode features\n",
    "df['race'] = df['race'].apply(lambda race: 0 if race == 'African-American' else 1)\n",
    "df['sex'] = df['sex'].apply(lambda sex: 0 if sex == 'Female' else 1)\n",
    "df['age'] = df['age'].apply(lambda age: 0 if age < 25 else (2 if age > 45 else 1))\n",
    "df['c_charge_degree'] = df['c_charge_degree'].apply(lambda c_charge_degree: 0 if c_charge_degree == 'M' else 1)\n",
    "df['priors_count'] = df['priors_count'].apply(lambda priors_count: 0 if priors_count == 0 else (2 if priors_count > 3 else 1))\n",
    "df['length_of_stay'] = (df['length_of_stay'] - df['length_of_stay'].mean())/df['length_of_stay'].std()     # normalized the length of stay\n",
    "df.head()"
   ]
  },
  {
   "cell_type": "markdown",
   "metadata": {},
   "source": [
    "### 2.1 Training and Test Sets"
   ]
  },
  {
   "cell_type": "code",
   "execution_count": 5,
   "metadata": {},
   "outputs": [],
   "source": [
    "df_shuffled = df.sample(frac=1, random_state=1)      # shuffled the dataset\n",
    "i = int(len(df_shuffled) * 0.7)         # use 70% as training set\n",
    "train = df_shuffled[:i]                 # training set\n",
    "test = df_shuffled[i:]                  # test set\n",
    "\n",
    "label = \"two_year_recid\"\n",
    "sensitive = \"race\"\n",
    "features = [\"sex\",\"age\",\"c_charge_degree\",\"priors_count\",\"length_of_stay\"]"
   ]
  },
  {
   "cell_type": "code",
   "execution_count": 6,
   "metadata": {},
   "outputs": [],
   "source": [
    "x_train, y_train, race_train = train[features], train[label].to_numpy(), train[sensitive]\n",
    "x_test, y_test, race_test = test[features], test[label].to_numpy(), test[sensitive]"
   ]
  },
  {
   "cell_type": "markdown",
   "metadata": {},
   "source": [
    "## 3. Baseline (Without Constraints)\n",
    "### 3.1 Logistic Regression\n",
    "\n",
    "Before fitting the logistic regression, let’s first define the function to calculate calibration(%) which could be understood as accuracy difference between two race groups."
   ]
  },
  {
   "cell_type": "code",
   "execution_count": 7,
   "metadata": {},
   "outputs": [],
   "source": [
    "# define the function for calculating calibration\n",
    "def MyCalibration(sensitive_attr, y_pred, y_true):\n",
    "    cau_index = np.where(sensitive_attr == 1)[0]           # index for Caucasians\n",
    "    african_index = np.where(sensitive_attr == 0)[0]       # index for African-Americans\n",
    "    \n",
    "    y_pred_cau = y_pred[cau_index]           # Caucasians\n",
    "    y_true_cau = y_true[cau_index] \n",
    "    Acc_cau = sum(y_pred_cau == y_true_cau)/len(y_pred_cau)\n",
    "\n",
    "    y_pred_african = y_pred[african_index]   # African-Americans\n",
    "    y_true_african = y_true[african_index]\n",
    "    Acc_african = sum(y_pred_african == y_true_african)/len(y_pred_african)\n",
    "\n",
    "    calibration = (Acc_cau - Acc_african)*100\n",
    "    return(calibration)"
   ]
  },
  {
   "cell_type": "code",
   "execution_count": 8,
   "metadata": {},
   "outputs": [],
   "source": [
    "from sklearn.linear_model import LogisticRegression"
   ]
  },
  {
   "cell_type": "code",
   "execution_count": 9,
   "metadata": {},
   "outputs": [],
   "source": [
    "logReg = LogisticRegression(random_state = 0).fit(x_train, y_train)   # logistic regression without constraints"
   ]
  },
  {
   "cell_type": "code",
   "execution_count": 10,
   "metadata": {},
   "outputs": [
    {
     "data": {
      "text/html": [
       "<div>\n",
       "<style scoped>\n",
       "    .dataframe tbody tr th:only-of-type {\n",
       "        vertical-align: middle;\n",
       "    }\n",
       "\n",
       "    .dataframe tbody tr th {\n",
       "        vertical-align: top;\n",
       "    }\n",
       "\n",
       "    .dataframe thead th {\n",
       "        text-align: right;\n",
       "    }\n",
       "</style>\n",
       "<table border=\"1\" class=\"dataframe\">\n",
       "  <thead>\n",
       "    <tr style=\"text-align: right;\">\n",
       "      <th></th>\n",
       "      <th>Methods</th>\n",
       "      <th>Set</th>\n",
       "      <th>Accuracy (%)</th>\n",
       "      <th>Calibration(%)</th>\n",
       "    </tr>\n",
       "  </thead>\n",
       "  <tbody>\n",
       "    <tr>\n",
       "      <th>0</th>\n",
       "      <td>LR</td>\n",
       "      <td>Train</td>\n",
       "      <td>66.307345</td>\n",
       "      <td>0.016413</td>\n",
       "    </tr>\n",
       "    <tr>\n",
       "      <th>1</th>\n",
       "      <td>LR</td>\n",
       "      <td>Test</td>\n",
       "      <td>66.257310</td>\n",
       "      <td>0.502892</td>\n",
       "    </tr>\n",
       "  </tbody>\n",
       "</table>\n",
       "</div>"
      ],
      "text/plain": [
       "  Methods    Set  Accuracy (%)  Calibration(%)\n",
       "0      LR  Train     66.307345        0.016413\n",
       "1      LR   Test     66.257310        0.502892"
      ]
     },
     "execution_count": 10,
     "metadata": {},
     "output_type": "execute_result"
    }
   ],
   "source": [
    "summary_logReg = {\"Methods\": [\"LR\", \"LR\"], \n",
    "              \"Set\": [\"Train\", \"Test\"],\n",
    "              \"Accuracy (%)\": [logReg.score(x_train, y_train)*100, logReg.score(x_test, y_test)*100],\n",
    "              \"Calibration(%)\": [MyCalibration(race_train, logReg.predict(x_train), y_train),\n",
    "                                 MyCalibration(race_test, logReg.predict(x_test), y_test)]}\n",
    "\n",
    "pd.DataFrame(summary_logReg)"
   ]
  },
  {
   "cell_type": "markdown",
   "metadata": {},
   "source": [
    "### 3.2 Support Vector Machine (SVM) "
   ]
  },
  {
   "cell_type": "code",
   "execution_count": 11,
   "metadata": {},
   "outputs": [],
   "source": [
    "from sklearn.svm import SVC"
   ]
  },
  {
   "cell_type": "code",
   "execution_count": 12,
   "metadata": {},
   "outputs": [],
   "source": [
    "svm_model = SVC(kernel = 'linear', probability = True)\n",
    "svm_model = svm_model.fit(x_train, y_train)"
   ]
  },
  {
   "cell_type": "code",
   "execution_count": 13,
   "metadata": {},
   "outputs": [
    {
     "data": {
      "text/html": [
       "<div>\n",
       "<style scoped>\n",
       "    .dataframe tbody tr th:only-of-type {\n",
       "        vertical-align: middle;\n",
       "    }\n",
       "\n",
       "    .dataframe tbody tr th {\n",
       "        vertical-align: top;\n",
       "    }\n",
       "\n",
       "    .dataframe thead th {\n",
       "        text-align: right;\n",
       "    }\n",
       "</style>\n",
       "<table border=\"1\" class=\"dataframe\">\n",
       "  <thead>\n",
       "    <tr style=\"text-align: right;\">\n",
       "      <th></th>\n",
       "      <th>Methods</th>\n",
       "      <th>Set</th>\n",
       "      <th>Accuracy (%)</th>\n",
       "      <th>Calibration(%)</th>\n",
       "    </tr>\n",
       "  </thead>\n",
       "  <tbody>\n",
       "    <tr>\n",
       "      <th>0</th>\n",
       "      <td>SVM</td>\n",
       "      <td>Train</td>\n",
       "      <td>66.006518</td>\n",
       "      <td>0.731009</td>\n",
       "    </tr>\n",
       "    <tr>\n",
       "      <th>1</th>\n",
       "      <td>SVM</td>\n",
       "      <td>Test</td>\n",
       "      <td>64.561404</td>\n",
       "      <td>-0.431792</td>\n",
       "    </tr>\n",
       "  </tbody>\n",
       "</table>\n",
       "</div>"
      ],
      "text/plain": [
       "  Methods    Set  Accuracy (%)  Calibration(%)\n",
       "0     SVM  Train     66.006518        0.731009\n",
       "1     SVM   Test     64.561404       -0.431792"
      ]
     },
     "execution_count": 13,
     "metadata": {},
     "output_type": "execute_result"
    }
   ],
   "source": [
    "summary_svm = {\"Methods\": [\"SVM\", \"SVM\"], \n",
    "              \"Set\": [\"Train\", \"Test\"],\n",
    "              \"Accuracy (%)\": [svm_model.score(x_train, y_train)*100, svm_model.score(x_test, y_test)*100],\n",
    "              \"Calibration(%)\": [MyCalibration(race_train, svm_model.predict(x_train), y_train),\n",
    "                                 MyCalibration(race_test, svm_model.predict(x_test), y_test)]}\n",
    "\n",
    "pd.DataFrame(summary_svm)"
   ]
  },
  {
   "cell_type": "markdown",
   "metadata": {},
   "source": [
    "## 4. Implementation of Method 1 (A2)"
   ]
  },
  {
   "cell_type": "markdown",
   "metadata": {},
   "source": [
    "<code>(Brief introduction about the algorithm)</code>"
   ]
  },
  {
   "cell_type": "markdown",
   "metadata": {},
   "source": [
    "### 4.1 Logistic Regression With Fairness Constraints"
   ]
  },
  {
   "cell_type": "code",
   "execution_count": null,
   "metadata": {},
   "outputs": [],
   "source": [
    "# code"
   ]
  },
  {
   "cell_type": "markdown",
   "metadata": {},
   "source": [
    "### 4.2 Support Vector Machine (SVM) With Fairness Constraints"
   ]
  },
  {
   "cell_type": "markdown",
   "metadata": {},
   "source": [
    "We use the functions from [Fairness_in_Classification_using_SVM](https://github.com/SreeranjaniD/Fairness-in-Classification-using-SVM) to generate SVM with fairness constraints."
   ]
  },
  {
   "cell_type": "code",
   "execution_count": 14,
   "metadata": {},
   "outputs": [],
   "source": [
    "%run SVM_scratch.py"
   ]
  },
  {
   "cell_type": "code",
   "execution_count": 15,
   "metadata": {},
   "outputs": [],
   "source": [
    "%run helper.py"
   ]
  },
  {
   "cell_type": "code",
   "execution_count": 16,
   "metadata": {},
   "outputs": [],
   "source": [
    "%run loss_function.py"
   ]
  },
  {
   "cell_type": "code",
   "execution_count": 17,
   "metadata": {},
   "outputs": [],
   "source": [
    "x_control_train = {'race': race_train}\n",
    "x_control_test = {'race': race_test}"
   ]
  },
  {
   "cell_type": "code",
   "execution_count": 18,
   "metadata": {},
   "outputs": [],
   "source": [
    "#Use hinge loss function to compute the loss\n",
    "loss_function = _hinge_loss\n",
    "\n",
    "#Penalty\n",
    "C = 1\n",
    "\n",
    "#max_iter is the maximum number of iterations for the minimization algorithm\n",
    "#We set max_iter = -1 to take as many iterations as we want\n",
    "max_iter = -1\n",
    "\n",
    "lamb = 1\n",
    "epochs = 1000\n",
    "\n",
    "#Learning rate \n",
    "lr = 0.1  \n",
    "\n",
    "#Set apply_fairness_constraints to be true\n",
    "apply_fairness_constraints = 1 \n",
    "\n",
    "sensitive_attrs = ['race']\n",
    "\n",
    "#Covariance threshold\n",
    "c = {'race': 0} \n",
    "\n",
    "#Gamma value strongly affect the accuracy, higher gamma will cause a huge decrease in accuracy,\n",
    "#to ensure our accuracy, we need to set it at a low value\n",
    "#So, in this case, we set our gamma equals to 0\n",
    "gamma = 0"
   ]
  },
  {
   "cell_type": "code",
   "execution_count": 19,
   "metadata": {},
   "outputs": [
    {
     "name": "stdout",
     "output_type": "stream",
     "text": [
      "running Custom model\n"
     ]
    }
   ],
   "source": [
    "Csvm = SVM() #call SVM() function from SVM_scratch.py\n",
    "w = Csvm.training(x_train,y_train,x_control_train,loss_function,C,max_iter,lamb,epochs,lr,apply_fairness_constraints,sensitive_attrs,sensitive_attrs_to_cov_thresh=c,gamma=0)\n",
    "predict_y_train = np.sign(np.dot(x_train,w))\n",
    "predict_y_test = np.sign(np.dot(x_test,w))\n",
    "train_accuracy = sum(predict_y_train == y_train)/len(y_train)\n",
    "test_accuracy = sum(predict_y_test == y_test)/len(y_test)"
   ]
  },
  {
   "cell_type": "code",
   "execution_count": 20,
   "metadata": {},
   "outputs": [
    {
     "data": {
      "text/html": [
       "<div>\n",
       "<style scoped>\n",
       "    .dataframe tbody tr th:only-of-type {\n",
       "        vertical-align: middle;\n",
       "    }\n",
       "\n",
       "    .dataframe tbody tr th {\n",
       "        vertical-align: top;\n",
       "    }\n",
       "\n",
       "    .dataframe thead th {\n",
       "        text-align: right;\n",
       "    }\n",
       "</style>\n",
       "<table border=\"1\" class=\"dataframe\">\n",
       "  <thead>\n",
       "    <tr style=\"text-align: right;\">\n",
       "      <th></th>\n",
       "      <th>Classifier</th>\n",
       "      <th>Set</th>\n",
       "      <th>Accuracy (%)</th>\n",
       "      <th>Calibration (%)</th>\n",
       "    </tr>\n",
       "  </thead>\n",
       "  <tbody>\n",
       "    <tr>\n",
       "      <th>0</th>\n",
       "      <td>C-SVM</td>\n",
       "      <td>Train</td>\n",
       "      <td>47.630985</td>\n",
       "      <td>-13.727658</td>\n",
       "    </tr>\n",
       "    <tr>\n",
       "      <th>1</th>\n",
       "      <td>C-SVM</td>\n",
       "      <td>Test</td>\n",
       "      <td>47.076023</td>\n",
       "      <td>-10.153752</td>\n",
       "    </tr>\n",
       "  </tbody>\n",
       "</table>\n",
       "</div>"
      ],
      "text/plain": [
       "  Classifier    Set  Accuracy (%)  Calibration (%)\n",
       "0      C-SVM  Train     47.630985       -13.727658\n",
       "1      C-SVM   Test     47.076023       -10.153752"
      ]
     },
     "execution_count": 20,
     "metadata": {},
     "output_type": "execute_result"
    }
   ],
   "source": [
    "summary_c_svm = {\"Classifier\": [\"C-SVM\", \"C-SVM\"],\n",
    "                \"Set\": [\"Train\", \"Test\"],\n",
    "                \"Accuracy (%)\": [train_accuracy*100, test_accuracy*100],\n",
    "                \"Calibration (%)\": [MyCalibration(race_train, predict_y_train, y_train), MyCalibration(race_test, predict_y_test, y_test)]}\n",
    "pd.DataFrame(summary_c_svm)"
   ]
  },
  {
   "cell_type": "markdown",
   "metadata": {},
   "source": [
    "## 5. Implementation of Method 2 (A7)"
   ]
  },
  {
   "cell_type": "markdown",
   "metadata": {},
   "source": [
    "<code>(Brief introduction about the algorithm)</code>"
   ]
  },
  {
   "cell_type": "code",
   "execution_count": 13,
   "metadata": {},
   "outputs": [],
   "source": [
    "# Function to compute protect/non_protect ratio\n",
    "def protect_ratio(sensitive_attr, y_pred):\n",
    "    protect = np.where(sensitive_attr == 1)[0]\n",
    "    non_protect = np.where(sensitive_attr == 0)[0]\n",
    "    \n",
    "    protect_pred = np.where(y_pred[protect] == 1)\n",
    "    non_protect_pred = np.where(y_pred[non_protect] == 1)\n",
    "    \n",
    "    protect_prop = protect_pred[0].shape[0]/protect.shape[0]\n",
    "    non_protect_prop = non_protect_pred[0].shape[0]/non_protect.shape[0]\n",
    "    \n",
    "    ratio = min(protect_prop/non_protect_prop, non_protect_prop/protect_prop)\n",
    "    return ratio, protect_prop, non_protect_prop"
   ]
  },
  {
   "cell_type": "code",
   "execution_count": 19,
   "metadata": {},
   "outputs": [
    {
     "name": "stderr",
     "output_type": "stream",
     "text": [
      "100%|██████████| 10/10 [00:00<00:00, 58.29it/s]\n"
     ]
    },
    {
     "data": {
      "text/html": [
       "<div>\n",
       "<style scoped>\n",
       "    .dataframe tbody tr th:only-of-type {\n",
       "        vertical-align: middle;\n",
       "    }\n",
       "\n",
       "    .dataframe tbody tr th {\n",
       "        vertical-align: top;\n",
       "    }\n",
       "\n",
       "    .dataframe thead th {\n",
       "        text-align: right;\n",
       "    }\n",
       "</style>\n",
       "<table border=\"1\" class=\"dataframe\">\n",
       "  <thead>\n",
       "    <tr style=\"text-align: right;\">\n",
       "      <th></th>\n",
       "      <th>sex</th>\n",
       "      <th>age</th>\n",
       "      <th>priors_count</th>\n",
       "      <th>length_of_stay</th>\n",
       "    </tr>\n",
       "  </thead>\n",
       "  <tbody>\n",
       "    <tr>\n",
       "      <th>0</th>\n",
       "      <td>1.0</td>\n",
       "      <td>1.0</td>\n",
       "      <td>2.0</td>\n",
       "      <td>-0.339996</td>\n",
       "    </tr>\n",
       "    <tr>\n",
       "      <th>1</th>\n",
       "      <td>0.0</td>\n",
       "      <td>1.0</td>\n",
       "      <td>0.0</td>\n",
       "      <td>-0.332117</td>\n",
       "    </tr>\n",
       "    <tr>\n",
       "      <th>2</th>\n",
       "      <td>1.0</td>\n",
       "      <td>1.0</td>\n",
       "      <td>2.0</td>\n",
       "      <td>-0.187939</td>\n",
       "    </tr>\n",
       "    <tr>\n",
       "      <th>3</th>\n",
       "      <td>1.0</td>\n",
       "      <td>1.0</td>\n",
       "      <td>0.0</td>\n",
       "      <td>-0.362056</td>\n",
       "    </tr>\n",
       "    <tr>\n",
       "      <th>4</th>\n",
       "      <td>1.0</td>\n",
       "      <td>1.0</td>\n",
       "      <td>1.0</td>\n",
       "      <td>-0.154849</td>\n",
       "    </tr>\n",
       "    <tr>\n",
       "      <th>...</th>\n",
       "      <td>...</td>\n",
       "      <td>...</td>\n",
       "      <td>...</td>\n",
       "      <td>...</td>\n",
       "    </tr>\n",
       "    <tr>\n",
       "      <th>1705</th>\n",
       "      <td>1.0</td>\n",
       "      <td>1.0</td>\n",
       "      <td>2.0</td>\n",
       "      <td>-0.358905</td>\n",
       "    </tr>\n",
       "    <tr>\n",
       "      <th>1706</th>\n",
       "      <td>0.0</td>\n",
       "      <td>1.0</td>\n",
       "      <td>2.0</td>\n",
       "      <td>-0.339996</td>\n",
       "    </tr>\n",
       "    <tr>\n",
       "      <th>1707</th>\n",
       "      <td>1.0</td>\n",
       "      <td>1.0</td>\n",
       "      <td>0.0</td>\n",
       "      <td>-0.371510</td>\n",
       "    </tr>\n",
       "    <tr>\n",
       "      <th>1708</th>\n",
       "      <td>1.0</td>\n",
       "      <td>1.0</td>\n",
       "      <td>2.0</td>\n",
       "      <td>-0.358905</td>\n",
       "    </tr>\n",
       "    <tr>\n",
       "      <th>1709</th>\n",
       "      <td>0.0</td>\n",
       "      <td>2.0</td>\n",
       "      <td>0.0</td>\n",
       "      <td>-0.357329</td>\n",
       "    </tr>\n",
       "  </tbody>\n",
       "</table>\n",
       "<p>1710 rows × 4 columns</p>\n",
       "</div>"
      ],
      "text/plain": [
       "      sex  age  priors_count  length_of_stay\n",
       "0     1.0  1.0           2.0       -0.339996\n",
       "1     0.0  1.0           0.0       -0.332117\n",
       "2     1.0  1.0           2.0       -0.187939\n",
       "3     1.0  1.0           0.0       -0.362056\n",
       "4     1.0  1.0           1.0       -0.154849\n",
       "...   ...  ...           ...             ...\n",
       "1705  1.0  1.0           2.0       -0.358905\n",
       "1706  0.0  1.0           2.0       -0.339996\n",
       "1707  1.0  1.0           0.0       -0.371510\n",
       "1708  1.0  1.0           2.0       -0.358905\n",
       "1709  0.0  2.0           0.0       -0.357329\n",
       "\n",
       "[1710 rows x 4 columns]"
      ]
     },
     "execution_count": 19,
     "metadata": {},
     "output_type": "execute_result"
    }
   ],
   "source": [
    "import powershap\n",
    "from powershap import PowerShap\n",
    "\n",
    "#X = pd.concat([x_train, x_test], ignore_index=True)\n",
    "\n",
    "selector = PowerShap(model = logReg)\n",
    "selector.fit(x_train, y_train)\n",
    "selector.transform(x_test)"
   ]
  },
  {
   "cell_type": "code",
   "execution_count": 20,
   "metadata": {},
   "outputs": [
    {
     "data": {
      "text/html": [
       "<div>\n",
       "<style scoped>\n",
       "    .dataframe tbody tr th:only-of-type {\n",
       "        vertical-align: middle;\n",
       "    }\n",
       "\n",
       "    .dataframe tbody tr th {\n",
       "        vertical-align: top;\n",
       "    }\n",
       "\n",
       "    .dataframe thead th {\n",
       "        text-align: right;\n",
       "    }\n",
       "</style>\n",
       "<table border=\"1\" class=\"dataframe\">\n",
       "  <thead>\n",
       "    <tr style=\"text-align: right;\">\n",
       "      <th></th>\n",
       "      <th>impact</th>\n",
       "      <th>p_value</th>\n",
       "      <th>effect_size</th>\n",
       "      <th>power_0.01_alpha</th>\n",
       "      <th>0.99_power_its_req</th>\n",
       "    </tr>\n",
       "  </thead>\n",
       "  <tbody>\n",
       "    <tr>\n",
       "      <th>priors_count</th>\n",
       "      <td>0.534758</td>\n",
       "      <td>0.0</td>\n",
       "      <td>-20.861345</td>\n",
       "      <td>1.0</td>\n",
       "      <td>2.370618</td>\n",
       "    </tr>\n",
       "    <tr>\n",
       "      <th>age</th>\n",
       "      <td>0.314642</td>\n",
       "      <td>0.0</td>\n",
       "      <td>-13.009941</td>\n",
       "      <td>1.0</td>\n",
       "      <td>2.654843</td>\n",
       "    </tr>\n",
       "    <tr>\n",
       "      <th>sex</th>\n",
       "      <td>0.120711</td>\n",
       "      <td>0.0</td>\n",
       "      <td>-5.196917</td>\n",
       "      <td>1.0</td>\n",
       "      <td>3.768006</td>\n",
       "    </tr>\n",
       "    <tr>\n",
       "      <th>length_of_stay</th>\n",
       "      <td>0.079086</td>\n",
       "      <td>0.0</td>\n",
       "      <td>-2.861684</td>\n",
       "      <td>1.0</td>\n",
       "      <td>5.737383</td>\n",
       "    </tr>\n",
       "    <tr>\n",
       "      <th>c_charge_degree</th>\n",
       "      <td>0.045779</td>\n",
       "      <td>0.2</td>\n",
       "      <td>0.000000</td>\n",
       "      <td>0.0</td>\n",
       "      <td>0.000000</td>\n",
       "    </tr>\n",
       "    <tr>\n",
       "      <th>random_uniform_feature</th>\n",
       "      <td>0.030756</td>\n",
       "      <td>0.7</td>\n",
       "      <td>0.000000</td>\n",
       "      <td>0.0</td>\n",
       "      <td>0.000000</td>\n",
       "    </tr>\n",
       "  </tbody>\n",
       "</table>\n",
       "</div>"
      ],
      "text/plain": [
       "                          impact  p_value  effect_size  power_0.01_alpha  \\\n",
       "priors_count            0.534758      0.0   -20.861345               1.0   \n",
       "age                     0.314642      0.0   -13.009941               1.0   \n",
       "sex                     0.120711      0.0    -5.196917               1.0   \n",
       "length_of_stay          0.079086      0.0    -2.861684               1.0   \n",
       "c_charge_degree         0.045779      0.2     0.000000               0.0   \n",
       "random_uniform_feature  0.030756      0.7     0.000000               0.0   \n",
       "\n",
       "                        0.99_power_its_req  \n",
       "priors_count                      2.370618  \n",
       "age                               2.654843  \n",
       "sex                               3.768006  \n",
       "length_of_stay                    5.737383  \n",
       "c_charge_degree                   0.000000  \n",
       "random_uniform_feature            0.000000  "
      ]
     },
     "execution_count": 20,
     "metadata": {},
     "output_type": "execute_result"
    }
   ],
   "source": [
    "selector._processed_shaps_df #priors_count, age, sex, length_of_stay all significant -> drop c_charge_degree"
   ]
  },
  {
   "cell_type": "code",
   "execution_count": 22,
   "metadata": {
    "code_folding": []
   },
   "outputs": [
    {
     "name": "stdout",
     "output_type": "stream",
     "text": [
      "   sex  age  c_charge_degree  priors_count  length_of_stay\n",
      "0    1    1                0             2       -0.183212\n",
      "1    1    0                1             0       -0.359692\n",
      "2    0    1                0             0       -0.364420\n",
      "3    1    1                1             2        0.855976\n",
      "4    1    1                1             2       -0.359692\n"
     ]
    }
   ],
   "source": [
    "# code\n",
    "import shap\n",
    "\n",
    "#X = pd.concat([x_train, x_test], ignore_index=True)\n",
    "\n",
    "explainer = shap.Explainer(logReg,X)\n",
    "shap_values = explainer(X)"
   ]
  },
  {
   "cell_type": "code",
   "execution_count": 26,
   "metadata": {},
   "outputs": [
    {
     "data": {
      "image/png": "[encoded data removed]",
      "text/plain": [
       "<Figure size 800x400 with 1 Axes>"
      ]
     },
     "metadata": {},
     "output_type": "display_data"
    }
   ],
   "source": [
    "shap.plots.bar(shap_values) # confirm drop c_charge_degree"
   ]
  },
  {
   "cell_type": "code",
   "execution_count": 25,
   "metadata": {},
   "outputs": [],
   "source": [
    "#feature selection: drop c_charge_degree\n",
    "features_ffs = [\"sex\",\"age\",\"priors_count\",\"length_of_stay\"]\n",
    "\n",
    "x_train_ffs, y_train_ffs, race_train_ffs = train[features_ffs], train[label].to_numpy(), train[sensitive]\n",
    "x_test_ffs, y_test_ffs, race_test_ffs = test[features_ffs], test[label].to_numpy(), test[sensitive]"
   ]
  },
  {
   "cell_type": "markdown",
   "metadata": {},
   "source": [
    "### 5.1 Logistic Regression After Features Selection"
   ]
  },
  {
   "cell_type": "code",
   "execution_count": 23,
   "metadata": {},
   "outputs": [
    {
     "data": {
      "text/html": [
       "<div>\n",
       "<style scoped>\n",
       "    .dataframe tbody tr th:only-of-type {\n",
       "        vertical-align: middle;\n",
       "    }\n",
       "\n",
       "    .dataframe tbody tr th {\n",
       "        vertical-align: top;\n",
       "    }\n",
       "\n",
       "    .dataframe thead th {\n",
       "        text-align: right;\n",
       "    }\n",
       "</style>\n",
       "<table border=\"1\" class=\"dataframe\">\n",
       "  <thead>\n",
       "    <tr style=\"text-align: right;\">\n",
       "      <th></th>\n",
       "      <th>Classifier</th>\n",
       "      <th>Set</th>\n",
       "      <th>Accuracy (%)</th>\n",
       "      <th>Ratio</th>\n",
       "      <th>Protected (%)</th>\n",
       "      <th>Non-Protected (%)</th>\n",
       "      <th>Calibration (%)</th>\n",
       "    </tr>\n",
       "  </thead>\n",
       "  <tbody>\n",
       "    <tr>\n",
       "      <th>0</th>\n",
       "      <td>LR-FFS</td>\n",
       "      <td>Train</td>\n",
       "      <td>66.307345</td>\n",
       "      <td>0.572039</td>\n",
       "      <td>29.858112</td>\n",
       "      <td>52.195946</td>\n",
       "      <td>0.120333</td>\n",
       "    </tr>\n",
       "    <tr>\n",
       "      <th>1</th>\n",
       "      <td>LR-FFS</td>\n",
       "      <td>Test</td>\n",
       "      <td>65.847953</td>\n",
       "      <td>0.586630</td>\n",
       "      <td>28.744327</td>\n",
       "      <td>48.999047</td>\n",
       "      <td>-0.062880</td>\n",
       "    </tr>\n",
       "  </tbody>\n",
       "</table>\n",
       "</div>"
      ],
      "text/plain": [
       "  Classifier    Set  Accuracy (%)     Ratio  Protected (%)  Non-Protected (%)  \\\n",
       "0     LR-FFS  Train     66.307345  0.572039      29.858112          52.195946   \n",
       "1     LR-FFS   Test     65.847953  0.586630      28.744327          48.999047   \n",
       "\n",
       "   Calibration (%)  \n",
       "0         0.120333  \n",
       "1        -0.062880  "
      ]
     },
     "execution_count": 23,
     "metadata": {},
     "output_type": "execute_result"
    }
   ],
   "source": [
    "clf = LogisticRegression(random_state = 0).fit(x_train_ffs, y_train_ffs)\n",
    "results_lr_ffs = {\"Classifier\": [\"LR-FFS\", \"LR-FFS\"],\n",
    "                  \"Set\": [\"Train\", \"Test\"],\n",
    "                  \"Accuracy (%)\": [clf.score(x_train_ffs, y_train_ffs)*100, clf.score(x_test_ffs, y_test_ffs)*100],\n",
    "                  \"Ratio\": [protect_ratio(race_train_ffs, clf.predict(x_train_ffs))[0], protect_ratio(race_test_ffs, clf.predict(x_test_ffs))[0]],\n",
    "                  \"Protected (%)\": [protect_ratio(race_train_ffs, clf.predict(x_train_ffs))[1]*100, protect_ratio(race_test_ffs, clf.predict(x_test_ffs))[1]*100],\n",
    "                  \"Non-Protected (%)\": [protect_ratio(race_train_ffs, clf.predict(x_train_ffs))[2]*100, protect_ratio(race_test_ffs, clf.predict(x_test_ffs))[2]*100],\n",
    "                  \"Calibration (%)\": [MyCalibration(race_train_ffs, clf.predict(x_train_ffs), y_train_ffs), MyCalibration(race_test_ffs, clf.predict(x_test_ffs), y_test_ffs)]}\n",
    "pd.DataFrame(results_lr_ffs)"
   ]
  },
  {
   "cell_type": "markdown",
   "metadata": {},
   "source": [
    "### 5.2 Support Vector Machine (SVM) After Features Selection"
   ]
  },
  {
   "cell_type": "code",
   "execution_count": 24,
   "metadata": {},
   "outputs": [
    {
     "data": {
      "text/html": [
       "<div>\n",
       "<style scoped>\n",
       "    .dataframe tbody tr th:only-of-type {\n",
       "        vertical-align: middle;\n",
       "    }\n",
       "\n",
       "    .dataframe tbody tr th {\n",
       "        vertical-align: top;\n",
       "    }\n",
       "\n",
       "    .dataframe thead th {\n",
       "        text-align: right;\n",
       "    }\n",
       "</style>\n",
       "<table border=\"1\" class=\"dataframe\">\n",
       "  <thead>\n",
       "    <tr style=\"text-align: right;\">\n",
       "      <th></th>\n",
       "      <th>Classifier</th>\n",
       "      <th>Set</th>\n",
       "      <th>Accuracy (%)</th>\n",
       "      <th>Ratio</th>\n",
       "      <th>Protected (%)</th>\n",
       "      <th>Non-Protected (%)</th>\n",
       "      <th>Calibration (%)</th>\n",
       "    </tr>\n",
       "  </thead>\n",
       "  <tbody>\n",
       "    <tr>\n",
       "      <th>0</th>\n",
       "      <td>SVM-FFS</td>\n",
       "      <td>Train</td>\n",
       "      <td>65.906242</td>\n",
       "      <td>0.573057</td>\n",
       "      <td>30.104874</td>\n",
       "      <td>52.533784</td>\n",
       "      <td>0.380328</td>\n",
       "    </tr>\n",
       "    <tr>\n",
       "      <th>1</th>\n",
       "      <td>SVM-FFS</td>\n",
       "      <td>Test</td>\n",
       "      <td>65.906433</td>\n",
       "      <td>0.612522</td>\n",
       "      <td>29.954614</td>\n",
       "      <td>48.903718</td>\n",
       "      <td>-0.158208</td>\n",
       "    </tr>\n",
       "  </tbody>\n",
       "</table>\n",
       "</div>"
      ],
      "text/plain": [
       "  Classifier    Set  Accuracy (%)     Ratio  Protected (%)  Non-Protected (%)  \\\n",
       "0    SVM-FFS  Train     65.906242  0.573057      30.104874          52.533784   \n",
       "1    SVM-FFS   Test     65.906433  0.612522      29.954614          48.903718   \n",
       "\n",
       "   Calibration (%)  \n",
       "0         0.380328  \n",
       "1        -0.158208  "
      ]
     },
     "execution_count": 24,
     "metadata": {},
     "output_type": "execute_result"
    }
   ],
   "source": [
    "# code\n",
    "svm_model = SVC(kernel = 'linear', probability = True)\n",
    "clf = svm_model.fit(x_train_ffs, y_train_ffs)\n",
    "results_svm_ffs = {\"Classifier\": [\"SVM-FFS\", \"SVM-FFS\"],\n",
    "                   \"Set\": [\"Train\", \"Test\"],\n",
    "                   \"Accuracy (%)\": [clf.score(x_train_ffs, y_train_ffs)*100, clf.score(x_test_ffs, y_test_ffs)*100],\n",
    "                   \"Ratio\": [protect_ratio(race_train_ffs, clf.predict(x_train_ffs))[0], protect_ratio(race_test_ffs, clf.predict(x_test_ffs))[0]],\n",
    "                   \"Protected (%)\": [protect_ratio(race_train_ffs, clf.predict(x_train_ffs))[1]*100, protect_ratio(race_test_ffs, clf.predict(x_test_ffs))[1]*100],\n",
    "                   \"Non-Protected (%)\": [protect_ratio(race_train_ffs, clf.predict(x_train_ffs))[2]*100, protect_ratio(race_test_ffs, clf.predict(x_test_ffs))[2]*100],\n",
    "                   \"Calibration (%)\": [MyCalibration(race_train_ffs, clf.predict(x_train_ffs), y_train_ffs), MyCalibration(race_test_ffs, clf.predict(x_test_ffs), y_test_ffs)]}\n",
    "pd.DataFrame(results_svm_ffs)"
   ]
  },
  {
   "cell_type": "markdown",
   "metadata": {},
   "source": [
    "## 6. Evaluation"
   ]
  },
  {
   "cell_type": "code",
   "execution_count": 34,
   "metadata": {},
   "outputs": [
    {
     "data": {
      "text/html": [
       "<div>\n",
       "<style scoped>\n",
       "    .dataframe tbody tr th:only-of-type {\n",
       "        vertical-align: middle;\n",
       "    }\n",
       "\n",
       "    .dataframe tbody tr th {\n",
       "        vertical-align: top;\n",
       "    }\n",
       "\n",
       "    .dataframe thead th {\n",
       "        text-align: right;\n",
       "    }\n",
       "</style>\n",
       "<table border=\"1\" class=\"dataframe\">\n",
       "  <thead>\n",
       "    <tr style=\"text-align: right;\">\n",
       "      <th></th>\n",
       "      <th>Methods</th>\n",
       "      <th>Accuracy (%)</th>\n",
       "      <th>Calibration(%)</th>\n",
       "    </tr>\n",
       "  </thead>\n",
       "  <tbody>\n",
       "    <tr>\n",
       "      <th>0</th>\n",
       "      <td>LR</td>\n",
       "      <td>66.257310</td>\n",
       "      <td>0.502892</td>\n",
       "    </tr>\n",
       "    <tr>\n",
       "      <th>1</th>\n",
       "      <td>SVM</td>\n",
       "      <td>64.561404</td>\n",
       "      <td>-0.431792</td>\n",
       "    </tr>\n",
       "  </tbody>\n",
       "</table>\n",
       "</div>"
      ],
      "text/plain": [
       "  Methods  Accuracy (%)  Calibration(%)\n",
       "0      LR     66.257310        0.502892\n",
       "1     SVM     64.561404       -0.431792"
      ]
     },
     "execution_count": 34,
     "metadata": {},
     "output_type": "execute_result"
    }
   ],
   "source": [
    "# summary table for test results\n",
    "\n",
    "# ------please add test set results to the following table-------\n",
    "\n",
    "summary_total = {\"Methods\": [\"LR\", \"SVM\"], \n",
    "              \"Accuracy (%)\": [logReg.score(x_test, y_test)*100, svm_model.score(x_test, y_test)*100],\n",
    "              \"Calibration(%)\": [MyCalibration(race_test, logReg.predict(x_test), y_test),\n",
    "                                 MyCalibration(race_test, svm_model.predict(x_test), y_test)]}\n",
    "pd.DataFrame(summary_total)    \n"
   ]
  },
  {
   "cell_type": "markdown",
   "metadata": {},
   "source": [
    "<code>summary & conclusion</code>"
   ]
  },
  {
   "cell_type": "markdown",
   "metadata": {},
   "source": []
  }
 ],
 "metadata": {
  "hide_input": false,
  "kernelspec": {
   "display_name": "Python 3",
   "language": "python",
   "name": "python3"
  },
  "language_info": {
   "codemirror_mode": {
    "name": "ipython",
    "version": 3
   },
   "file_extension": ".py",
   "mimetype": "text/x-python",
   "name": "python",
   "nbconvert_exporter": "python",
   "pygments_lexer": "ipython3",
   "version": "3.7.3"
  },
  "varInspector": {
   "cols": {
    "lenName": 16,
    "lenType": 16,
    "lenVar": 40
   },
   "kernels_config": {
    "python": {
     "delete_cmd_postfix": "",
     "delete_cmd_prefix": "del ",
     "library": "var_list.py",
     "varRefreshCmd": "print(var_dic_list())"
    },
    "r": {
     "delete_cmd_postfix": ") ",
     "delete_cmd_prefix": "rm(",
     "library": "var_list.r",
     "varRefreshCmd": "cat(var_dic_list()) "
    }
   },
   "types_to_exclude": [
    "module",
    "function",
    "builtin_function_or_method",
    "instance",
    "_Feature"
   ],
   "window_display": false
  },
  "vscode": {
   "interpreter": {
    "hash": "81330382ab1ba62609b71606825ef662099859f62620180ec660642768814311"
   }
  }
 },
 "nbformat": 4,
 "nbformat_minor": 2
}
